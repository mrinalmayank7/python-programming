{
 "cells": [
  {
   "cell_type": "code",
   "execution_count": 40,
   "id": "prerequisite-above",
   "metadata": {},
   "outputs": [
    {
     "name": "stdout",
     "output_type": "stream",
     "text": [
      "5\n",
      "<class 'list'>\n",
      "['Cherry', 'Apple', 'Banana', 'Grapes', 'Orange']\n",
      "['Banana', 'Grapes']\n",
      "['Orange']\n",
      "Cherry\n"
     ]
    }
   ],
   "source": [
    "Fruit = [\"Cherry\",\"Apple\",\"Banana\",\"Grapes\",\"Orange\"]\n",
    "print(len(Fruit)) #print lenghth of list\n",
    "print(type(Fruit))\n",
    "print(Fruit)    #print full list\n",
    "print(Fruit[2:4]) #print list from index 2 to 4\n",
    "print(Fruit[-1:]) #print last index\n",
    "print(Fruit[0]) #print first index"
   ]
  },
  {
   "cell_type": "code",
   "execution_count": 41,
   "id": "bizarre-payday",
   "metadata": {},
   "outputs": [
    {
     "name": "stdout",
     "output_type": "stream",
     "text": [
      "['Cherry', 'Guava', 'Banana', 'Grapes', 'Orange']\n",
      "['Mango', 'Cherry', 'Guava', 'Banana', 'Grapes', 'Orange']\n",
      "['Mango', 'Cherry', 'Guava', 'Banana', 'Grapes', 'Orange', 'Strawberry']\n"
     ]
    }
   ],
   "source": [
    "Fruit[1:2]=[\"Guava\"] #add element at specific loc\n",
    "print(Fruit)\n",
    "Fruit.insert(0,\"Mango\") #add element at specific loc using insert\n",
    "print(Fruit)\n",
    "Fruit.append(\"Strawberry\") #add element at the end\n",
    "print(Fruit)"
   ]
  },
  {
   "cell_type": "code",
   "execution_count": 42,
   "id": "established-balance",
   "metadata": {},
   "outputs": [
    {
     "name": "stdout",
     "output_type": "stream",
     "text": [
      "['Mango', 'Cherry', 'Guava', 'Banana', 'Grapes', 'Orange', 'Strawberry', 'Carrot', 'Potato']\n"
     ]
    }
   ],
   "source": [
    "Vegetable=[\"Carrot\",\"Potato\"]\n",
    "Fruit.extend(Vegetable) #add list vegetable in fruit\n",
    "print(Fruit)"
   ]
  },
  {
   "cell_type": "code",
   "execution_count": 43,
   "id": "interim-seventh",
   "metadata": {},
   "outputs": [
    {
     "name": "stdout",
     "output_type": "stream",
     "text": [
      "['Mango', 'Var1', 'Var2', 'Banana', 'Grapes', 'Orange', 'Strawberry', 'Carrot', 'Potato']\n",
      "['Mango', 'Var1', 'Var2', 'Var2', 'Banana', 'Grapes', 'Orange', 'Strawberry', 'Carrot', 'Potato']\n"
     ]
    }
   ],
   "source": [
    "Fruit[1:3]=[\"Var1\",\"Var2\"]\n",
    "print(Fruit)\n",
    "Fruit[1:2]=[\"Var1\",\"Var2\"]\n",
    "print(Fruit)"
   ]
  },
  {
   "cell_type": "code",
   "execution_count": 44,
   "id": "fourth-porcelain",
   "metadata": {},
   "outputs": [
    {
     "name": "stdout",
     "output_type": "stream",
     "text": [
      "['Mango', 'Var2', 'Var2', 'Banana', 'Grapes', 'Orange', 'Strawberry', 'Carrot', 'Potato']\n",
      "['Mango', 'Var2', 'Var2', 'Banana', 'Grapes', 'Strawberry', 'Carrot', 'Potato']\n",
      "['Mango', 'Var2', 'Var2', 'Banana', 'Grapes', 'Strawberry', 'Carrot']\n"
     ]
    }
   ],
   "source": [
    "Fruit.remove(\"Var1\")\n",
    "print(Fruit)\n",
    "Fruit.pop(5) #delete from index 5\n",
    "print(Fruit)\n",
    "Fruit.pop() #delete from end\n",
    "print(Fruit)"
   ]
  },
  {
   "cell_type": "code",
   "execution_count": 45,
   "id": "bored-space",
   "metadata": {},
   "outputs": [
    {
     "name": "stdout",
     "output_type": "stream",
     "text": [
      "['Chandigarh', 'Ludhiana']\n",
      "[]\n"
     ]
    }
   ],
   "source": [
    "Place=[\"Mohali\",\"Chandigarh\",\"Ludhiana\"]\n",
    "del Place[0] #delete index 0\n",
    "print(Place)\n",
    "del Place #delete entire list \n",
    "Vegetable.clear() #delete the entire elements of list not the list\n",
    "print(Vegetable)"
   ]
  },
  {
   "cell_type": "code",
   "execution_count": 46,
   "id": "matched-infrastructure",
   "metadata": {},
   "outputs": [
    {
     "name": "stdout",
     "output_type": "stream",
     "text": [
      "Mango\n",
      "Var2\n",
      "Var2\n",
      "Banana\n",
      "Grapes\n",
      "Strawberry\n",
      "Carrot\n"
     ]
    }
   ],
   "source": [
    "\n",
    "for i in Fruit: \n",
    "    print(i)\n",
    "    "
   ]
  },
  {
   "cell_type": "code",
   "execution_count": 47,
   "id": "colonial-tooth",
   "metadata": {},
   "outputs": [
    {
     "name": "stdout",
     "output_type": "stream",
     "text": [
      "Mango\n",
      "Var2\n",
      "Var2\n",
      "Banana\n",
      "Grapes\n",
      "Strawberry\n",
      "Carrot\n"
     ]
    }
   ],
   "source": [
    "for i in range(len(Fruit)):\n",
    "    print(Fruit[i])"
   ]
  },
  {
   "cell_type": "code",
   "execution_count": 48,
   "id": "subjective-sydney",
   "metadata": {},
   "outputs": [
    {
     "name": "stdout",
     "output_type": "stream",
     "text": [
      "Mango\n",
      "Var2\n",
      "Var2\n",
      "Banana\n",
      "Grapes\n",
      "Strawberry\n",
      "Carrot\n"
     ]
    }
   ],
   "source": [
    "i=0\n",
    "while i<len(Fruit):\n",
    "    print(Fruit[i])\n",
    "    i=i+1\n",
    "    "
   ]
  },
  {
   "cell_type": "code",
   "execution_count": 49,
   "id": "intellectual-shopping",
   "metadata": {},
   "outputs": [
    {
     "name": "stdout",
     "output_type": "stream",
     "text": [
      "['Mango', 'Var2', 'Var2', 'Banana', 'Grapes', 'Strawberry', 'Carrot']\n"
     ]
    }
   ],
   "source": [
    "newlist=[]\n",
    "for i in Fruit:\n",
    "    if \"a\" in i:\n",
    "        newlist.append(i) #append if condition meet\n",
    "print(newlist)"
   ]
  },
  {
   "cell_type": "code",
   "execution_count": 50,
   "id": "special-homework",
   "metadata": {},
   "outputs": [
    {
     "name": "stdout",
     "output_type": "stream",
     "text": [
      "['Mango', 'Var2', 'Var2', 'Banana', 'Grapes', 'Strawberry', 'Carrot']\n"
     ]
    }
   ],
   "source": [
    "newlist_2= [i for i in Fruit if \"a\"in i] #append if condition meet\n",
    "print(newlist_2)"
   ]
  },
  {
   "cell_type": "code",
   "execution_count": 51,
   "id": "joined-mixer",
   "metadata": {},
   "outputs": [
    {
     "name": "stdout",
     "output_type": "stream",
     "text": [
      "['Var2', 'Var2', 'Strawberry', 'Mango', 'Grapes', 'Carrot', 'Banana']\n",
      "['Banana', 'Carrot', 'Grapes', 'Mango', 'Strawberry', 'Var2', 'Var2']\n"
     ]
    }
   ],
   "source": [
    "Fruit.sort(reverse=True) # sort in descending \n",
    "print(Fruit)\n",
    "Fruit.sort() #sort in ascending\n",
    "print(Fruit)"
   ]
  },
  {
   "cell_type": "code",
   "execution_count": 52,
   "id": "emerging-abuse",
   "metadata": {},
   "outputs": [
    {
     "name": "stdout",
     "output_type": "stream",
     "text": [
      "[89, 77, 34, 23, 5, 3, 1]\n",
      "[1, 3, 5, 23, 34, 77, 89]\n"
     ]
    }
   ],
   "source": [
    "num=[1,5,3,89,34,77,23]\n",
    "num.sort(reverse=True)\n",
    "print(num)\n",
    "num.sort()\n",
    "print(num)"
   ]
  },
  {
   "cell_type": "code",
   "execution_count": 53,
   "id": "undefined-resource",
   "metadata": {},
   "outputs": [
    {
     "name": "stdout",
     "output_type": "stream",
     "text": [
      "['Banana', 'Carrot', 'Grapes', 'Mango', 'Strawberry', 'Var2', 'Var2']\n",
      "['Banana', 'Carrot', 'Grapes', 'Mango', 'Strawberry', 'Var2', 'Var2']\n"
     ]
    }
   ],
   "source": [
    "Copy_list=[]\n",
    "Copy_list=Fruit.copy() #copy content of fruit to copy_list using copy\n",
    "print(Copy_list)\n",
    "Copy_list2=[]\n",
    "Copy_list2=list(Fruit) #copy content of fruit to copy_list using list\n",
    "print(Copy_list2)"
   ]
  },
  {
   "cell_type": "code",
   "execution_count": 54,
   "id": "spanish-hardware",
   "metadata": {},
   "outputs": [
    {
     "name": "stdout",
     "output_type": "stream",
     "text": [
      "['Banana', 'Carrot', 'Grapes', 'Mango', 'Strawberry', 'Var2', 'Var2', 1, 3, 5, 23, 34, 77, 89]\n"
     ]
    }
   ],
   "source": [
    "add=Fruit+num\n",
    "print(add)"
   ]
  },
  {
   "cell_type": "code",
   "execution_count": null,
   "id": "lonely-worship",
   "metadata": {},
   "outputs": [],
   "source": [
    "lst=[]\n",
    "n=int(input())\n",
    "for i in range(0,n):\n",
    "    element=int(input()) #add the elements in the list of user specified limit\n",
    "    lst.append(element)\n",
    "print(lst)"
   ]
  }
 ],
 "metadata": {
  "kernelspec": {
   "display_name": "Python 3",
   "language": "python",
   "name": "python3"
  },
  "language_info": {
   "codemirror_mode": {
    "name": "ipython",
    "version": 3
   },
   "file_extension": ".py",
   "mimetype": "text/x-python",
   "name": "python",
   "nbconvert_exporter": "python",
   "pygments_lexer": "ipython3",
   "version": "3.9.1"
  }
 },
 "nbformat": 4,
 "nbformat_minor": 5
}
