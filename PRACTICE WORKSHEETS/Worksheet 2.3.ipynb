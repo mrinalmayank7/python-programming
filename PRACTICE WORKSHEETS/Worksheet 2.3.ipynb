{
 "cells": [
  {
   "cell_type": "markdown",
   "id": "prospective-montana",
   "metadata": {},
   "source": [
    "\n",
    "#### MRINAL MAYANK\n",
    "#### 19BCS1605"
   ]
  },
  {
   "cell_type": "markdown",
   "id": "hidden-sampling",
   "metadata": {},
   "source": [
    "### <b>Creating dictionary CSE_8_C of 7 students "
   ]
  },
  {
   "cell_type": "code",
   "execution_count": 1,
   "id": "sublime-germany",
   "metadata": {},
   "outputs": [
    {
     "name": "stdout",
     "output_type": "stream",
     "text": [
      "{'Student1': {'Name': 'Mrinal', 'UID': 1605}, 'Student2': {'Name': 'Anukul', 'UID': 1602}, 'Student3': {'Name': 'Kartik', 'UID': 1604}, 'Student4': {'Name': 'Ishaan', 'UID': 1603}, 'Student5': {'Name': 'Ukshit', 'UID': 1549}, 'Student6': {'Name': 'Rahul ', 'UID': 1212}, 'Student7': {'Name': 'Kushal', 'UID': 1111}}\n"
     ]
    }
   ],
   "source": [
    "# In this question we have to store name and uid of multiple students in a single dictionary \n",
    "# Here we will use the concept of nested dictionary to store multiple students in a single dictionary \n",
    "#Each student is also a dictionary with keys name and uid \n",
    "\n",
    "A={\"Name\":\"Mrinal\",\"UID\":1605}\n",
    "B={\"Name\":\"Anukul\",\"UID\":1602}\n",
    "C={\"Name\":\"Kartik\",\"UID\":1604}\n",
    "D={\"Name\":\"Ishaan\",\"UID\":1603}\n",
    "E={\"Name\":\"Ukshit\",\"UID\":1549}\n",
    "F={\"Name\":\"Rahul \",\"UID\":1212}\n",
    "G={\"Name\":\"Kushal\",\"UID\":1111}\n",
    "CSE_8_C={\"Student1\":A,\"Student2\":B,\"Student3\":C,\n",
    "         \"Student4\":D,\"Student5\":E,\"Student6\":F,\"Student7\":G}\n",
    "print(CSE_8_C) #1. Printing the nested dictionary created of cse 8 c students \n",
    "\n"
   ]
  },
  {
   "cell_type": "markdown",
   "id": "casual-measurement",
   "metadata": {},
   "source": [
    "### Add new student entry in dictionary"
   ]
  },
  {
   "cell_type": "code",
   "execution_count": 2,
   "id": "becoming-pension",
   "metadata": {},
   "outputs": [
    {
     "name": "stdout",
     "output_type": "stream",
     "text": [
      "{'Student1': {'Name': 'Mrinal', 'UID': 1605}, 'Student2': {'Name': 'Anukul', 'UID': 1602}, 'Student3': {'Name': 'Kartik', 'UID': 1604}, 'Student4': {'Name': 'Ishaan', 'UID': 1603}, 'Student5': {'Name': 'Ukshit', 'UID': 1549}, 'Student6': {'Name': 'Rahul ', 'UID': 1212}, 'Student7': {'Name': 'Kushal', 'UID': 1111}, 'Student8': {'Name': 'Vishal', 'UID': 1777}}\n"
     ]
    }
   ],
   "source": [
    "CSE_8_C[\"Student8\"]={\"Name\":\"Vishal\",\"UID\":1777} #2. Add new student entry in dictionary\n",
    "print(CSE_8_C)\n"
   ]
  },
  {
   "cell_type": "markdown",
   "id": "selected-township",
   "metadata": {},
   "source": [
    "### Perform pop operation on dictionary to remove an element from it"
   ]
  },
  {
   "cell_type": "code",
   "execution_count": 3,
   "id": "featured-settlement",
   "metadata": {},
   "outputs": [
    {
     "name": "stdout",
     "output_type": "stream",
     "text": [
      "{'Student1': {'Name': 'Mrinal', 'UID': 1605}, 'Student3': {'Name': 'Kartik', 'UID': 1604}, 'Student4': {'Name': 'Ishaan', 'UID': 1603}, 'Student5': {'Name': 'Ukshit', 'UID': 1549}, 'Student6': {'Name': 'Rahul ', 'UID': 1212}, 'Student7': {'Name': 'Kushal', 'UID': 1111}}\n"
     ]
    }
   ],
   "source": [
    "CSE_8_C.pop(\"Student2\") #pop entered item\n",
    "CSE_8_C.popitem() #pop last item\n",
    "print(CSE_8_C)"
   ]
  },
  {
   "cell_type": "markdown",
   "id": "equal-italian",
   "metadata": {},
   "source": [
    "### Update the name of one student in dictionary"
   ]
  },
  {
   "cell_type": "code",
   "execution_count": 4,
   "id": "silent-treat",
   "metadata": {},
   "outputs": [
    {
     "name": "stdout",
     "output_type": "stream",
     "text": [
      "{'Student1': {'Name': 'Mrinal', 'UID': 1605}, 'Student3': {'Name': 'Kartik', 'UID': 1604}, 'Student4': {'Name': 'Ishaan', 'UID': 1603}, 'Student5': {'Name': 'Ukshit', 'UID': 1549}, 'Student6': {'Name': 'Rahul ', 'UID': 1212}, 'Student7': {'Name': 'Rachit', 'UID': 1111}}\n"
     ]
    }
   ],
   "source": [
    "CSE_8_C.update({\"Student7\":{\"Name\":\"Rachit\",\"UID\":1111}})#update the values  \n",
    "print(CSE_8_C)"
   ]
  },
  {
   "cell_type": "markdown",
   "id": "younger-inside",
   "metadata": {},
   "source": [
    "# QUESTION 2"
   ]
  },
  {
   "cell_type": "code",
   "execution_count": 38,
   "id": "liked-swift",
   "metadata": {},
   "outputs": [
    {
     "name": "stdout",
     "output_type": "stream",
     "text": [
      "Name :Mrinal Mayank\n",
      "UID :19BCS1605\n"
     ]
    }
   ],
   "source": [
    "print(\"Name :Mrinal Mayank\")\n",
    "print(\"UID :19BCS1605\")"
   ]
  },
  {
   "cell_type": "code",
   "execution_count": 2,
   "id": "outstanding-coordinate",
   "metadata": {},
   "outputs": [
    {
     "name": "stdout",
     "output_type": "stream",
     "text": [
      "{'Pizza Name': ['Farmhouse', 'Tomato Pizza'], 'Sides': ['Coke', 'Burger'], 'Location': 'Mohali', 'Opening time': 11}\n",
      "Total items in Dictionary is : 4\n",
      "(Using for loop )Total items in Dictionary is : 4\n"
     ]
    }
   ],
   "source": [
    "Dominos =  {\"Pizza Name\":[\"Farmhouse\",\"Tomato Pizza\"],\n",
    "            \"Sides\" :[\"Coke\",\"Burger\"],\n",
    "            \"Location\" :\"Mohali\",\n",
    "            \"Opening time\":11}\n",
    "print(Dominos)\n",
    "\n",
    "#Using len function to count\n",
    "print(\"Total items in Dictionary is :\" ,len(Dominos.items()))\n",
    "\n",
    "#using for loop\n",
    "ctr=0\n",
    "for i in Dominos:\n",
    "    ctr+=1\n",
    "print(\"(Using for loop )Total items in Dictionary is :\",ctr)\n",
    "\n"
   ]
  },
  {
   "cell_type": "code",
   "execution_count": 3,
   "id": "finnish-paragraph",
   "metadata": {},
   "outputs": [
    {
     "name": "stdout",
     "output_type": "stream",
     "text": [
      "2\n",
      "INDEX : 0  | Keys :  Pizza Name\n",
      "INDEX : 1  | Keys :  Sides\n",
      "INDEX : 2  | Keys :  Location\n",
      "INDEX : 3  | Keys :  Opening time\n",
      "Mohali\n"
     ]
    }
   ],
   "source": [
    "List_Dominos=list(Dominos) #finding index of random element \n",
    "print(List_Dominos.index(\"Location\"))\n",
    "for i in List_Dominos:\n",
    "    print(\"INDEX :\", List_Dominos.index(i) ,\" | Keys : \",i) #indexing each element \n",
    "\n",
    "print(Dominos[\"Location\"]) #print value of key"
   ]
  },
  {
   "cell_type": "code",
   "execution_count": null,
   "id": "threaded-wesley",
   "metadata": {},
   "outputs": [],
   "source": []
  }
 ],
 "metadata": {
  "kernelspec": {
   "display_name": "Python 3",
   "language": "python",
   "name": "python3"
  },
  "language_info": {
   "codemirror_mode": {
    "name": "ipython",
    "version": 3
   },
   "file_extension": ".py",
   "mimetype": "text/x-python",
   "name": "python",
   "nbconvert_exporter": "python",
   "pygments_lexer": "ipython3",
   "version": "3.9.1"
  }
 },
 "nbformat": 4,
 "nbformat_minor": 5
}
